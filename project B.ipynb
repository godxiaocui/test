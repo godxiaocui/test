{
 "cells": [
  {
   "cell_type": "code",
   "execution_count": 32,
   "metadata": {},
   "outputs": [],
   "source": [
    "import pandas as pd\n",
    "from mlxtend.frequent_patterns import apriori\n",
    "from mlxtend.frequent_patterns import association_rules"
   ]
  },
  {
   "cell_type": "code",
   "execution_count": 33,
   "metadata": {},
   "outputs": [
    {
     "data": {
      "text/html": [
       "<div>\n",
       "<style scoped>\n",
       "    .dataframe tbody tr th:only-of-type {\n",
       "        vertical-align: middle;\n",
       "    }\n",
       "\n",
       "    .dataframe tbody tr th {\n",
       "        vertical-align: top;\n",
       "    }\n",
       "\n",
       "    .dataframe thead th {\n",
       "        text-align: right;\n",
       "    }\n",
       "</style>\n",
       "<table border=\"1\" class=\"dataframe\">\n",
       "  <thead>\n",
       "    <tr style=\"text-align: right;\">\n",
       "      <th></th>\n",
       "      <th>订单日期</th>\n",
       "      <th>年份</th>\n",
       "      <th>订单数量</th>\n",
       "      <th>产品ID</th>\n",
       "      <th>产品型号名称</th>\n",
       "      <th>产品名称</th>\n",
       "      <th>产品类别</th>\n",
       "      <th>单价</th>\n",
       "      <th>销售金额</th>\n",
       "      <th>产品成本</th>\n",
       "      <th>利润</th>\n",
       "      <th>客户ID</th>\n",
       "      <th>交易类型</th>\n",
       "      <th>销售区域ID</th>\n",
       "      <th>销售大区</th>\n",
       "      <th>国家</th>\n",
       "      <th>区域</th>\n",
       "    </tr>\n",
       "  </thead>\n",
       "  <tbody>\n",
       "    <tr>\n",
       "      <th>0</th>\n",
       "      <td>2016/1/1</td>\n",
       "      <td>2016</td>\n",
       "      <td>1</td>\n",
       "      <td>528</td>\n",
       "      <td>Mountain Tire Tube</td>\n",
       "      <td>车胎和内胎</td>\n",
       "      <td>配件</td>\n",
       "      <td>4.99</td>\n",
       "      <td>4.99</td>\n",
       "      <td>1.8663</td>\n",
       "      <td>3.1237</td>\n",
       "      <td>12411</td>\n",
       "      <td>1</td>\n",
       "      <td>4</td>\n",
       "      <td>西南区</td>\n",
       "      <td>中国</td>\n",
       "      <td>大中华区</td>\n",
       "    </tr>\n",
       "    <tr>\n",
       "      <th>1</th>\n",
       "      <td>2016/1/2</td>\n",
       "      <td>2016</td>\n",
       "      <td>1</td>\n",
       "      <td>528</td>\n",
       "      <td>Mountain Tire Tube</td>\n",
       "      <td>车胎和内胎</td>\n",
       "      <td>配件</td>\n",
       "      <td>4.99</td>\n",
       "      <td>4.99</td>\n",
       "      <td>1.8663</td>\n",
       "      <td>3.1237</td>\n",
       "      <td>16720</td>\n",
       "      <td>1</td>\n",
       "      <td>4</td>\n",
       "      <td>西南区</td>\n",
       "      <td>中国</td>\n",
       "      <td>大中华区</td>\n",
       "    </tr>\n",
       "    <tr>\n",
       "      <th>2</th>\n",
       "      <td>2016/1/2</td>\n",
       "      <td>2016</td>\n",
       "      <td>1</td>\n",
       "      <td>528</td>\n",
       "      <td>Mountain Tire Tube</td>\n",
       "      <td>车胎和内胎</td>\n",
       "      <td>配件</td>\n",
       "      <td>4.99</td>\n",
       "      <td>4.99</td>\n",
       "      <td>1.8663</td>\n",
       "      <td>3.1237</td>\n",
       "      <td>25967</td>\n",
       "      <td>1</td>\n",
       "      <td>4</td>\n",
       "      <td>西南区</td>\n",
       "      <td>中国</td>\n",
       "      <td>大中华区</td>\n",
       "    </tr>\n",
       "    <tr>\n",
       "      <th>3</th>\n",
       "      <td>2016/1/5</td>\n",
       "      <td>2016</td>\n",
       "      <td>1</td>\n",
       "      <td>528</td>\n",
       "      <td>Mountain Tire Tube</td>\n",
       "      <td>车胎和内胎</td>\n",
       "      <td>配件</td>\n",
       "      <td>4.99</td>\n",
       "      <td>4.99</td>\n",
       "      <td>1.8663</td>\n",
       "      <td>3.1237</td>\n",
       "      <td>23689</td>\n",
       "      <td>1</td>\n",
       "      <td>4</td>\n",
       "      <td>西南区</td>\n",
       "      <td>中国</td>\n",
       "      <td>大中华区</td>\n",
       "    </tr>\n",
       "    <tr>\n",
       "      <th>4</th>\n",
       "      <td>2016/1/6</td>\n",
       "      <td>2016</td>\n",
       "      <td>1</td>\n",
       "      <td>528</td>\n",
       "      <td>Mountain Tire Tube</td>\n",
       "      <td>车胎和内胎</td>\n",
       "      <td>配件</td>\n",
       "      <td>4.99</td>\n",
       "      <td>4.99</td>\n",
       "      <td>1.8663</td>\n",
       "      <td>3.1237</td>\n",
       "      <td>12978</td>\n",
       "      <td>1</td>\n",
       "      <td>4</td>\n",
       "      <td>西南区</td>\n",
       "      <td>中国</td>\n",
       "      <td>大中华区</td>\n",
       "    </tr>\n",
       "  </tbody>\n",
       "</table>\n",
       "</div>"
      ],
      "text/plain": [
       "       订单日期    年份  订单数量  产品ID              产品型号名称   产品名称 产品类别    单价  销售金额  \\\n",
       "0  2016/1/1  2016     1   528  Mountain Tire Tube  车胎和内胎   配件  4.99  4.99   \n",
       "1  2016/1/2  2016     1   528  Mountain Tire Tube  车胎和内胎   配件  4.99  4.99   \n",
       "2  2016/1/2  2016     1   528  Mountain Tire Tube  车胎和内胎   配件  4.99  4.99   \n",
       "3  2016/1/5  2016     1   528  Mountain Tire Tube  车胎和内胎   配件  4.99  4.99   \n",
       "4  2016/1/6  2016     1   528  Mountain Tire Tube  车胎和内胎   配件  4.99  4.99   \n",
       "\n",
       "     产品成本      利润   客户ID  交易类型  销售区域ID 销售大区  国家    区域  \n",
       "0  1.8663  3.1237  12411     1       4  西南区  中国  大中华区  \n",
       "1  1.8663  3.1237  16720     1       4  西南区  中国  大中华区  \n",
       "2  1.8663  3.1237  25967     1       4  西南区  中国  大中华区  \n",
       "3  1.8663  3.1237  23689     1       4  西南区  中国  大中华区  \n",
       "4  1.8663  3.1237  12978     1       4  西南区  中国  大中华区  "
      ]
     },
     "execution_count": 33,
     "metadata": {},
     "output_type": "execute_result"
    }
   ],
   "source": [
    "#读取数据\n",
    "data=pd.read_csv('D:\\data analayse\\python\\last testing\\ProjectB\\订单表.csv',encoding='gbk')\n",
    "data.head()\n"
   ]
  },
  {
   "cell_type": "code",
   "execution_count": 40,
   "metadata": {},
   "outputs": [
    {
     "data": {
      "text/plain": [
       "11015    自行车支架\n",
       "11015      挡泥板\n",
       "11015    山地自行车\n",
       "Name: 产品名称, dtype: object"
      ]
     },
     "execution_count": 40,
     "metadata": {},
     "output_type": "execute_result"
    }
   ],
   "source": [
    "#从订单信息中取得客户ID和产品名称作为series\n",
    "order=data.set_index('客户ID')['产品名称']\n",
    "order[11015]"
   ]
  },
  {
   "cell_type": "code",
   "execution_count": 5,
   "metadata": {},
   "outputs": [],
   "source": [
    "# transactions=[]\n",
    "# temp_index=0\n",
    "# for i,j in order.items():\n",
    "#     if i!=temp_index:\n",
    "#         temp_set=set()\n",
    "#         temp_index=i\n",
    "#         temp_set.add(j)\n",
    "#         transactions.append(temp_set)\n",
    "#     else:\n",
    "#         temp_set.add(j)"
   ]
  },
  {
   "cell_type": "code",
   "execution_count": 65,
   "metadata": {},
   "outputs": [
    {
     "name": "stdout",
     "output_type": "stream",
     "text": [
      "产品名称   公路自行车  头盔  山地自行车  帽子  手套  挂架  挡泥板  旅行自行车  水壶和水壶架  水袋背包  清洁剂  短裤  背心  \\\n",
      "客户ID                                                                         \n",
      "11000      0   1      1   0   0   0    1      1       0     0    0   0   0   \n",
      "11001      1   1      1   1   0   0    1      0       1     0    0   0   0   \n",
      "11002      0   1      1   0   0   0    0      1       0     0    0   0   0   \n",
      "11003      0   0      1   1   0   0    0      1       1     0    0   0   0   \n",
      "11004      0   1      1   0   0   0    1      1       0     0    0   0   0   \n",
      "...      ...  ..    ...  ..  ..  ..  ...    ...     ...   ...  ...  ..  ..   \n",
      "29479      0   0      1   0   0   0    0      0       0     0    0   0   0   \n",
      "29480      0   1      0   1   0   0    0      1       1     0    0   0   0   \n",
      "29481      0   0      1   0   0   0    0      0       0     0    0   0   0   \n",
      "29482      0   0      1   0   0   0    0      0       0     0    0   0   0   \n",
      "29483      0   0      1   0   0   0    0      0       0     0    0   0   0   \n",
      "\n",
      "产品名称   自行车支架  袜子  车胎和内胎  骑行服  \n",
      "客户ID                          \n",
      "11000      0   0      1    1  \n",
      "11001      0   0      0    1  \n",
      "11002      0   0      0    0  \n",
      "11003      0   0      1    0  \n",
      "11004      0   0      0    0  \n",
      "...      ...  ..    ...  ...  \n",
      "29479      0   0      0    0  \n",
      "29480      0   0      0    0  \n",
      "29481      0   0      0    0  \n",
      "29482      0   0      0    0  \n",
      "29483      0   0      0    0  \n",
      "\n",
      "[18484 rows x 17 columns]\n"
     ]
    }
   ],
   "source": [
    "def encode_units(x):\n",
    "    if x==0:\n",
    "        return 0\n",
    "    if x > 0:\n",
    "        return 1\n",
    "hot_encoded_df=data.groupby(['客户ID','产品名称'])['产品名称'].count().unstack().reset_index().fillna(0).set_index('客户ID')\n",
    "# hot_encoded_df=data.groupby(['客户ID','产品名称'])['产品名称'].count().unstack()\n",
    "hot_encoded_df = hot_encoded_df.applymap(encode_units)\n",
    "# hot_encoded_df=hot_encoded_df.fillna(0)\n",
    "# hot_encoded_df=hot_encoded_df.fillna(0)\n",
    "hot_encoded_df.to_csv('D:\\\\data analayse\\\\python\\\\last testing\\\\ProjectB\\\\temp2.csv',encoding='gbk')\n",
    "print(hot_encoded_df)"
   ]
  },
  {
   "cell_type": "code",
   "execution_count": 66,
   "metadata": {
    "scrolled": true
   },
   "outputs": [
    {
     "data": {
      "text/plain": [
       "(18484, 17)"
      ]
     },
     "execution_count": 66,
     "metadata": {},
     "output_type": "execute_result"
    }
   ],
   "source": [
    "hot_encoded_df=pd.read_csv('D:\\\\data analayse\\\\python\\\\last testing\\\\ProjectB\\\\temp2.csv',encoding='gbk',index_col=0)\n",
    "hot_encoded_df.head()\n",
    "hot_encoded_df.shape"
   ]
  },
  {
   "cell_type": "code",
   "execution_count": 67,
   "metadata": {},
   "outputs": [
    {
     "name": "stdout",
     "output_type": "stream",
     "text": [
      "****************************** 频繁项集 ******************************\n",
      "      support                itemsets\n",
      "15   0.459316                 (车胎和内胎)\n",
      "0    0.346083                 (公路自行车)\n",
      "1    0.322441                    (头盔)\n",
      "8    0.246051                (水壶和水壶架)\n",
      "2    0.221218                 (山地自行车)\n",
      "..        ...                     ...\n",
      "98   0.010658        (水壶和水壶架, 手套, 头盔)\n",
      "74   0.010604         (公路自行车, 头盔, 手套)\n",
      "89   0.010279         (帽子, 头盔, 山地自行车)\n",
      "111  0.010171       (骑行服, 挡泥板, 山地自行车)\n",
      "115  0.010063  (车胎和内胎, 水壶和水壶架, 山地自行车)\n",
      "\n",
      "[127 rows x 2 columns]\n",
      "****************************** 关联规则 ******************************\n",
      "  antecedents consequents  antecedent support  consequent support   support  \\\n",
      "4     (车胎和内胎)        (头盔)            0.309673            0.018340  0.012551   \n",
      "5        (头盔)     (车胎和内胎)            0.018340            0.309673  0.012551   \n",
      "2    (水壶和水壶架)     (山地自行车)            0.168686            0.047284  0.017096   \n",
      "3     (山地自行车)    (水壶和水壶架)            0.047284            0.168686  0.017096   \n",
      "0     (公路自行车)    (水壶和水壶架)            0.090403            0.168686  0.019530   \n",
      "1    (水壶和水壶架)     (公路自行车)            0.168686            0.090403  0.019530   \n",
      "\n",
      "   confidence      lift  leverage  conviction  \n",
      "4    0.040531  2.209961  0.006872    1.023128  \n",
      "5    0.684366  2.209961  0.006872    2.187110  \n",
      "2    0.101347  2.143362  0.009120    1.060160  \n",
      "3    0.361556  2.143362  0.009120    1.302093  \n",
      "0    0.216038  1.280709  0.004281    1.060401  \n",
      "1    0.115779  1.280709  0.004281    1.028700  \n"
     ]
    }
   ],
   "source": [
    "frequent_itemsets = apriori(hot_encoded_df,min_support=0.01,use_colnames=True)\n",
    "frequent_itemsets=frequent_itemsets.sort_values(by='support',ascending=False)\n",
    "print('*'*30,'频繁项集','*'*30)\n",
    "print(frequent_itemsets)\n",
    "rules = association_rules(itemsets,metric=\"lift\",min_threshold=1)\n",
    "rules=rules.sort_values(by='lift',ascending=False)\n",
    "print('*'*30,'关联规则','*'*30)\n",
    "print(rules)"
   ]
  },
  {
   "cell_type": "code",
   "execution_count": null,
   "metadata": {},
   "outputs": [],
   "source": []
  }
 ],
 "metadata": {
  "kernelspec": {
   "display_name": "Python 3",
   "language": "python",
   "name": "python3"
  },
  "language_info": {
   "codemirror_mode": {
    "name": "ipython",
    "version": 3
   },
   "file_extension": ".py",
   "mimetype": "text/x-python",
   "name": "python",
   "nbconvert_exporter": "python",
   "pygments_lexer": "ipython3",
   "version": "3.7.6"
  }
 },
 "nbformat": 4,
 "nbformat_minor": 4
}
