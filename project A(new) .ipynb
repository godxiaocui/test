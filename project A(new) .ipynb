{
 "cells": [
  {
   "cell_type": "code",
   "execution_count": 3,
   "metadata": {},
   "outputs": [],
   "source": [
    "import sys\n",
    "from bs4 import BeautifulSoup  #网页解析，获取数据\n",
    "import re                      #正则表达式，文字匹配\n",
    "import urllib.request,urllib.error# 制定URL，获取数据\n",
    "import xlwt                       #进行数据库操作\n",
    "import sqlite3                    #s数据库操作\n",
    "import urllib.request\n",
    "import urllib.parse\n",
    "import pandas as pd"
   ]
  },
  {
   "cell_type": "code",
   "execution_count": 14,
   "metadata": {},
   "outputs": [],
   "source": [
    "findtype=re.compile(r'<p class=\"cx-name text-hover\">(.*?)</p>')      #创建正则表达式，找名字\n",
    "findprice=re.compile(r'<p class=\"cx-price\">(.*?)</p>')     #找价格\n",
    "findimg=re.compile(r'<img .*src=\"(.*?)\"',re.S)     #找图片，换行符re.S图片\n",
    "def main():\n",
    "    askurl(\"http://car.bitauto.com/xuanchegongju/?l=8&mid=8\")\n",
    "    list=getdata(\"http://car.bitauto.com/xuanchegongju/?l=8&mid=8\")\n",
    "    name=['type','price','img']\n",
    "    test=pd.DataFrame(columns=name,data=list)\n",
    "    test.to_csv('result.csv',encoding='utf-8')\n",
    "if __name__==\"__main__\": \n",
    "    main()\n"
   ]
  },
  {
   "cell_type": "code",
   "execution_count": 5,
   "metadata": {},
   "outputs": [],
   "source": [
    "#浏览一个网页\n",
    "def askurl(url):\n",
    "    head={                    #模拟头部发送消息\n",
    "        \"User-Agent\": \"Mozilla/5.0 (Windows NT 10.0; Win64; x64) AppleWebKit/537.36 (KHTML, like Gecko) Chrome/84.0.4147.105 Safari/537.36\"\n",
    "    }#用户代理表示告诉网页我们伪装成浏览器，本质上告诉浏览器我们可以接受什么水平的文件,如果是418错误，一点不能错，大小写空格等\n",
    "    request=urllib.request.Request(url,headers=head)\n",
    "    html=\"\"\n",
    "    response=urllib.request.urlopen(request)\n",
    "    html=response.read().decode(\"utf-8\")\n",
    "    #print(html)\n",
    "    return html"
   ]
  },
  {
   "cell_type": "code",
   "execution_count": 7,
   "metadata": {},
   "outputs": [],
   "source": [
    "#爬网页上的数据\n",
    "def getdata(url):\n",
    "    datalist=[]\n",
    "    html=askurl(url)\n",
    "    #解析数据\n",
    "    soup =BeautifulSoup(html,\"lxml\")\n",
    "    for items in soup.find_all('div',class_=\"search-result-list-item\"):#查找符合要求的字符串,class要加下划线，因为是属性值\n",
    "        #print(items)查看电影item\n",
    "        data=[]\n",
    "        items=str(items)\n",
    "        type =re.findall(findtype,items)[0]\n",
    "        #print(type)\n",
    "        #re库查找指定的字符串\n",
    "        data.append(type)\n",
    "        price=re.findall(findprice,items)[0]\n",
    "        data.append(price)\n",
    "        #print(price)\n",
    "        img='http:'+re.findall(findimg,items)[0]\n",
    "        #print(img)\n",
    "        data.append(img)\n",
    "        datalist.append(data)\n",
    "    #print(datalist)\n",
    "    return datalist"
   ]
  },
  {
   "cell_type": "code",
   "execution_count": 16,
   "metadata": {},
   "outputs": [],
   "source": [
    "import pandas as pd\n",
    "tr1=pd.read_csv(\"result.csv\",encoding='utf-8',index_col=0)\n",
    "#tr1.drop([0,0],axis=1)\n",
    "tr1\n",
    "tr2=tr1['price'].str.extract(\"(.*?)万\").iloc[:,0].str.split('-',expand=True).iloc[:,0]\n",
    "tr3=tr1['price'].str.extract(\"(.*?)万\").iloc[:,0].str.split('-',expand=True).iloc[:,1]\n",
    "tr1.insert(1,\"最低值\",tr2)\n",
    "tr1.insert(2,\"最高值\",tr3)\n",
    "result=tr1.drop(\"price\",axis=1)\n",
    "result\n",
    "result.to_csv('D:\\\\data analayse\\\\python\\\\last testing\\\\ProjectA\\\\result.csv',encoding='gbk')\n",
    "\n",
    "\n",
    "\n"
   ]
  },
  {
   "cell_type": "code",
   "execution_count": null,
   "metadata": {},
   "outputs": [],
   "source": []
  }
 ],
 "metadata": {
  "kernelspec": {
   "display_name": "Python 3",
   "language": "python",
   "name": "python3"
  },
  "language_info": {
   "codemirror_mode": {
    "name": "ipython",
    "version": 3
   },
   "file_extension": ".py",
   "mimetype": "text/x-python",
   "name": "python",
   "nbconvert_exporter": "python",
   "pygments_lexer": "ipython3",
   "version": "3.7.6"
  }
 },
 "nbformat": 4,
 "nbformat_minor": 4
}
