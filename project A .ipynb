{
 "cells": [
  {
   "cell_type": "code",
   "execution_count": 2,
   "metadata": {},
   "outputs": [],
   "source": [
    "import sys\n",
    "from bs4 import BeautifulSoup  #网页解析，获取数据\n",
    "import re                      #正则表达式，文字匹配\n",
    "import urllib.request,urllib.error# 制定URL，获取数据\n",
    "import xlwt                       #进行数据库操作\n",
    "import sqlite3                    #s数据库操作\n",
    "import urllib.request\n",
    "import urllib.parse\n",
    "import pandas as pd"
   ]
  },
  {
   "cell_type": "code",
   "execution_count": 13,
   "metadata": {},
   "outputs": [
    {
     "name": "stdout",
     "output_type": "stream",
     "text": [
      "          type         price  \\\n",
      "0           探岳  18.59-31.39万   \n",
      "1           途岳  16.58-22.38万   \n",
      "2          途观L  21.88-31.18万   \n",
      "3           途昂  29.99-50.59万   \n",
      "4           途铠  11.49-15.99万   \n",
      "5           探歌  13.58-20.38万   \n",
      "6           途观  19.48-23.18万   \n",
      "7           探影  11.49-15.99万   \n",
      "8          探岳X  23.58-29.58万   \n",
      "9          途昂X  28.99-43.99万   \n",
      "10          途锐  56.98-82.18万   \n",
      "11    途观L 插电混动  26.58-32.58万   \n",
      "12  探岳GTE 插电混动  24.98-25.98万   \n",
      "13      Tiguan  23.98-35.08万   \n",
      "14     途锐 插电混动            暂无   \n",
      "\n",
      "                                                  img  \n",
      "0   //img2.bitautoimg.com/autoalbum/files/20191203...  \n",
      "1   //img2.bitautoimg.com/autoalbum/files/20190114...  \n",
      "2   //img4.bitautoimg.com/autoalbum/files/20190104...  \n",
      "3   //img3.bitautoimg.com/autoalbum/files/20190102...  \n",
      "4   //img2.bitautoimg.com/autoalbum/files/20190314...  \n",
      "5   //img4.bitautoimg.com/autoalbum/files/20190102...  \n",
      "6   //img1.bitautoimg.com/autoalbum/files/20181213...  \n",
      "7   //img1.bitautoimg.com/autoalbum/files/20191028...  \n",
      "8   //img1.bitautoimg.com/autoalbum/files/20200619...  \n",
      "9   //img1.bitautoimg.com/autoalbum/files/20190416...  \n",
      "10  //img3.bitautoimg.com/autoalbum/files/20180911...  \n",
      "11  //img4.bitautoimg.com/autoalbum/files/20180927...  \n",
      "12  //img3.bitautoimg.com/autoalbum/files/20200414...  \n",
      "13  //img1.bitautoimg.com/autoalbum/files/20180802...  \n",
      "14  //img4.bitautoimg.com/autoalbum/files/20190528...  \n"
     ]
    },
    {
     "ename": "NameError",
     "evalue": "name 's2' is not defined",
     "output_type": "error",
     "traceback": [
      "\u001b[1;31m---------------------------------------------------------------------------\u001b[0m",
      "\u001b[1;31mNameError\u001b[0m                                 Traceback (most recent call last)",
      "\u001b[1;32m<ipython-input-13-6027ad992566>\u001b[0m in \u001b[0;36m<module>\u001b[1;34m\u001b[0m\n\u001b[0;32m     11\u001b[0m     \u001b[0mprint\u001b[0m\u001b[1;33m(\u001b[0m\u001b[0ms2\u001b[0m\u001b[1;33m)\u001b[0m\u001b[1;33m\u001b[0m\u001b[1;33m\u001b[0m\u001b[0m\n\u001b[0;32m     12\u001b[0m \u001b[1;32mif\u001b[0m \u001b[0m__name__\u001b[0m\u001b[1;33m==\u001b[0m\u001b[1;34m\"__main__\"\u001b[0m\u001b[1;33m:\u001b[0m\u001b[1;33m\u001b[0m\u001b[1;33m\u001b[0m\u001b[0m\n\u001b[1;32m---> 13\u001b[1;33m     \u001b[0mmain\u001b[0m\u001b[1;33m(\u001b[0m\u001b[1;33m)\u001b[0m\u001b[1;33m\u001b[0m\u001b[1;33m\u001b[0m\u001b[0m\n\u001b[0m",
      "\u001b[1;32m<ipython-input-13-6027ad992566>\u001b[0m in \u001b[0;36mmain\u001b[1;34m()\u001b[0m\n\u001b[0;32m      9\u001b[0m     \u001b[0ms1\u001b[0m\u001b[1;33m=\u001b[0m\u001b[0mtest\u001b[0m\u001b[1;33m[\u001b[0m\u001b[1;34m'price'\u001b[0m\u001b[1;33m]\u001b[0m\u001b[1;33m.\u001b[0m\u001b[0mstr\u001b[0m\u001b[1;33m.\u001b[0m\u001b[0msplit\u001b[0m\u001b[1;33m(\u001b[0m\u001b[1;34m'-'\u001b[0m\u001b[1;33m,\u001b[0m\u001b[0mexpand\u001b[0m\u001b[1;33m=\u001b[0m\u001b[1;32mTrue\u001b[0m\u001b[1;33m)\u001b[0m\u001b[1;33m.\u001b[0m\u001b[0miloc\u001b[0m\u001b[1;33m[\u001b[0m\u001b[1;33m:\u001b[0m\u001b[1;33m,\u001b[0m\u001b[1;36m0\u001b[0m\u001b[1;33m:\u001b[0m\u001b[1;36m2\u001b[0m\u001b[1;33m]\u001b[0m\u001b[1;33m\u001b[0m\u001b[1;33m\u001b[0m\u001b[0m\n\u001b[0;32m     10\u001b[0m     \u001b[0mprint\u001b[0m\u001b[1;33m(\u001b[0m\u001b[0mtest\u001b[0m\u001b[1;33m)\u001b[0m\u001b[1;33m\u001b[0m\u001b[1;33m\u001b[0m\u001b[0m\n\u001b[1;32m---> 11\u001b[1;33m     \u001b[0mprint\u001b[0m\u001b[1;33m(\u001b[0m\u001b[0ms2\u001b[0m\u001b[1;33m)\u001b[0m\u001b[1;33m\u001b[0m\u001b[1;33m\u001b[0m\u001b[0m\n\u001b[0m\u001b[0;32m     12\u001b[0m \u001b[1;32mif\u001b[0m \u001b[0m__name__\u001b[0m\u001b[1;33m==\u001b[0m\u001b[1;34m\"__main__\"\u001b[0m\u001b[1;33m:\u001b[0m\u001b[1;33m\u001b[0m\u001b[1;33m\u001b[0m\u001b[0m\n\u001b[0;32m     13\u001b[0m     \u001b[0mmain\u001b[0m\u001b[1;33m(\u001b[0m\u001b[1;33m)\u001b[0m\u001b[1;33m\u001b[0m\u001b[1;33m\u001b[0m\u001b[0m\n",
      "\u001b[1;31mNameError\u001b[0m: name 's2' is not defined"
     ]
    }
   ],
   "source": [
    "findtype=re.compile(r'<p class=\"cx-name text-hover\">(.*?)</p>')      #创建正则表达式，找名字\n",
    "findprice=re.compile(r'<p class=\"cx-price\">(.*?)</p>')     #找价格\n",
    "findimg=re.compile(r'<img .*src=\"(.*?)\"',re.S)     #找图片，换行符re.S图片\n",
    "def main():\n",
    "    askurl(\"http://car.bitauto.com/xuanchegongju/?l=8&mid=8\")\n",
    "    list=getdata(\"http://car.bitauto.com/xuanchegongju/?l=8&mid=8\")\n",
    "    name=['type','price','img']\n",
    "    test=pd.DataFrame(columns=name,data=list)\n",
    "    s1=test['price'].str.split('-',expand=True).iloc[:,0:2]\n",
    "    print(test)\n",
    "    print(s1)\n",
    "if __name__==\"__main__\": \n",
    "    main()\n"
   ]
  },
  {
   "cell_type": "code",
   "execution_count": 9,
   "metadata": {},
   "outputs": [
    {
     "ename": "NameError",
     "evalue": "name 'test' is not defined",
     "output_type": "error",
     "traceback": [
      "\u001b[1;31m---------------------------------------------------------------------------\u001b[0m",
      "\u001b[1;31mNameError\u001b[0m                                 Traceback (most recent call last)",
      "\u001b[1;32m<ipython-input-9-5950a84bca39>\u001b[0m in \u001b[0;36m<module>\u001b[1;34m\u001b[0m\n\u001b[1;32m----> 1\u001b[1;33m \u001b[0mtest\u001b[0m\u001b[1;33m.\u001b[0m\u001b[0mprice\u001b[0m\u001b[1;33m.\u001b[0m\u001b[0mstr\u001b[0m\u001b[1;33m[\u001b[0m\u001b[1;36m0\u001b[0m\u001b[1;33m:\u001b[0m\u001b[1;33m-\u001b[0m\u001b[1;36m1\u001b[0m\u001b[1;33m]\u001b[0m\u001b[1;33m\u001b[0m\u001b[1;33m\u001b[0m\u001b[0m\n\u001b[0m",
      "\u001b[1;31mNameError\u001b[0m: name 'test' is not defined"
     ]
    }
   ],
   "source": []
  },
  {
   "cell_type": "code",
   "execution_count": 3,
   "metadata": {},
   "outputs": [],
   "source": [
    "#浏览一个网页\n",
    "def askurl(url):\n",
    "    head={                    #模拟头部发送消息\n",
    "        \"User-Agent\": \"Mozilla/5.0 (Windows NT 10.0; Win64; x64) AppleWebKit/537.36 (KHTML, like Gecko) Chrome/84.0.4147.105 Safari/537.36\"\n",
    "    }#用户代理表示告诉网页我们伪装成浏览器，本质上告诉浏览器我们可以接受什么水平的文件,如果是418错误，一点不能错，大小写空格等\n",
    "    request=urllib.request.Request(url,headers=head)\n",
    "    html=\"\"\n",
    "    response=urllib.request.urlopen(request)\n",
    "    html=response.read().decode(\"utf-8\")\n",
    "    #print(html)\n",
    "    return html"
   ]
  },
  {
   "cell_type": "code",
   "execution_count": 4,
   "metadata": {},
   "outputs": [],
   "source": [
    "#爬网页上的数据\n",
    "def getdata(url):\n",
    "    datalist=[]\n",
    "    html=askurl(url)\n",
    "    #解析数据\n",
    "    soup =BeautifulSoup(html,\"lxml\")\n",
    "    for items in soup.find_all('div',class_=\"search-result-list-item\"):#查找符合要求的字符串,class要加下划线，因为是属性值\n",
    "        #print(items)查看电影item\n",
    "        data=[]\n",
    "        items=str(items)\n",
    "        type =re.findall(findtype,items)[0]\n",
    "        #print(type)\n",
    "        #re库查找指定的字符串\n",
    "        data.append(type)\n",
    "        price=re.findall(findprice,items)[0]\n",
    "        data.append(price)\n",
    "        #print(price)\n",
    "        img=re.findall(findimg,items)[0]\n",
    "        #print(img)\n",
    "        data.append(img)\n",
    "        datalist.append(data)\n",
    "    #print(datalist)\n",
    "    return datalist"
   ]
  },
  {
   "cell_type": "code",
   "execution_count": 54,
   "metadata": {},
   "outputs": [],
   "source": [
    "import pandas as pd\n",#开始清洗数据
    "tr1=pd.read_csv(\"result.csv\",encoding='utf-8',index_col=0)\n",
    "#tr1.drop([0,0],axis=1)\n",
    "tr1\n",
    "tr2=tr1['价格'].str.extract(\"(.*?)万\").iloc[:,0].str.split('-',expand=True).iloc[:,0]\n",
    "tr3=tr1['价格'].str.extract(\"(.*?)万\").iloc[:,0].str.split('-',expand=True).iloc[:,1]\n",
    "tr1.insert(1,\"最低值\",tr2)\n",
    "tr1.insert(2,\"最高值\",tr3)\n",
    "result=tr1.drop(\"价格\",axis=1)\n",
    "result\n",
    "result.to_csv('D:\\\\data analayse\\\\python\\\\last testing\\\\ProjectA\\\\result.csv',encoding='gbk')\n",
    "\n",
    "\n",
    "\n"
   ]
  },
  {
   "cell_type": "code",
   "execution_count": null,
   "metadata": {},
   "outputs": [],
   "source": []
  }
 ],
 "metadata": {
  "kernelspec": {
   "display_name": "Python 3",
   "language": "python",
   "name": "python3"
  },
  "language_info": {
   "codemirror_mode": {
    "name": "ipython",
    "version": 3
   },
   "file_extension": ".py",
   "mimetype": "text/x-python",
   "name": "python",
   "nbconvert_exporter": "python",
   "pygments_lexer": "ipython3",
   "version": "3.7.6"
  }
 },
 "nbformat": 4,
 "nbformat_minor": 4
}
